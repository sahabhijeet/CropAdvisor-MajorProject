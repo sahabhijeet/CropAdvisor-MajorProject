{
  "nbformat": 4,
  "nbformat_minor": 0,
  "metadata": {
    "kernelspec": {
      "display_name": "Python 3",
      "language": "python",
      "name": "python3"
    },
    "language_info": {
      "codemirror_mode": {
        "name": "ipython",
        "version": 3
      },
      "file_extension": ".py",
      "mimetype": "text/x-python",
      "name": "python",
      "nbconvert_exporter": "python",
      "pygments_lexer": "ipython3",
      "version": "3.8.5"
    },
    "colab": {
      "name": "Model Building.ipynb",
      "provenance": [],
      "collapsed_sections": []
    }
  },
  "cells": [
    {
      "cell_type": "markdown",
      "metadata": {
        "id": "coSpY-J20xTJ"
      },
      "source": [
        "<p>Data fields\n",
        "\n",
        "N - ratio of Nitrogen content in soil <br>\n",
        "P - ratio of Phosphorous content in soil<br>\n",
        "K - ratio of Potassium content in soil<br>\n",
        "temperature - temperature in degree Celsius<br>\n",
        "humidity - relative humidity in %<br>\n",
        "ph - ph value of the soil<br>\n",
        "rainfall - rainfall in mm<br>\n",
        "Here a model is trained from these historical recommendations, in order to provide an autonomous crop selection based on the above variables.</p>"
      ]
    },
    {
      "cell_type": "code",
      "metadata": {
        "id": "Ps63sSDu0xTL"
      },
      "source": [
        "# Importing libraries\n",
        "import sklearn\n",
        "from pandas import read_csv\n",
        "from pandas.plotting import scatter_matrix \n",
        "from matplotlib import pyplot as plt\n",
        "from sklearn.model_selection import train_test_split\n",
        "from sklearn.metrics import classification_report\n",
        "#from sklearn.metrics import confusion_matrix\n",
        "from sklearn.metrics import accuracy_score\n",
        "from sklearn.discriminant_analysis import LinearDiscriminantAnalysis\n",
        "from sklearn.naive_bayes import GaussianNB\n",
        "from sklearn.svm import SVC\n",
        "import seaborn as sns\n",
        "from sklearn import metrics \n",
        "import numpy as np\n",
        "from sklearn.ensemble import VotingClassifier\n",
        "from sklearn.pipeline import Pipeline\n",
        "from sklearn.preprocessing import StandardScaler\n",
        "\n"
      ],
      "execution_count": 124,
      "outputs": []
    },
    {
      "cell_type": "code",
      "metadata": {
        "id": "1AVBoBeprUiC"
      },
      "source": [
        "#pip install -U scikit-learn"
      ],
      "execution_count": 125,
      "outputs": []
    },
    {
      "cell_type": "code",
      "metadata": {
        "colab": {
          "base_uri": "https://localhost:8080/"
        },
        "id": "lTy417yKpTXw",
        "outputId": "82f1ffb5-cb10-4f39-9b6b-610a0c6fb9cb"
      },
      "source": [
        "\n",
        "print(sklearn.__version__) "
      ],
      "execution_count": 126,
      "outputs": [
        {
          "output_type": "stream",
          "text": [
            "0.24.2\n"
          ],
          "name": "stdout"
        }
      ]
    },
    {
      "cell_type": "code",
      "metadata": {
        "id": "jgGaGK240xTL"
      },
      "source": [
        "# Load dataset\n",
        "url = \"Crop_recommendations.csv\"\n",
        "dataset = read_csv(url)"
      ],
      "execution_count": 127,
      "outputs": []
    },
    {
      "cell_type": "code",
      "metadata": {
        "colab": {
          "base_uri": "https://localhost:8080/"
        },
        "id": "AG9Fi7Xo0xTM",
        "outputId": "950442ef-2955-4f7d-9476-41ecdfc64cdc"
      },
      "source": [
        "# shape\n",
        "print(dataset.shape)"
      ],
      "execution_count": 128,
      "outputs": [
        {
          "output_type": "stream",
          "text": [
            "(2499, 8)\n"
          ],
          "name": "stdout"
        }
      ]
    },
    {
      "cell_type": "code",
      "metadata": {
        "colab": {
          "base_uri": "https://localhost:8080/",
          "height": 343
        },
        "id": "W9m91vYe0xTN",
        "outputId": "9e7ae9e3-9b18-4cc4-986d-432dc1afd1b5"
      },
      "source": [
        "dataset.head(10)"
      ],
      "execution_count": 129,
      "outputs": [
        {
          "output_type": "execute_result",
          "data": {
            "text/html": [
              "<div>\n",
              "<style scoped>\n",
              "    .dataframe tbody tr th:only-of-type {\n",
              "        vertical-align: middle;\n",
              "    }\n",
              "\n",
              "    .dataframe tbody tr th {\n",
              "        vertical-align: top;\n",
              "    }\n",
              "\n",
              "    .dataframe thead th {\n",
              "        text-align: right;\n",
              "    }\n",
              "</style>\n",
              "<table border=\"1\" class=\"dataframe\">\n",
              "  <thead>\n",
              "    <tr style=\"text-align: right;\">\n",
              "      <th></th>\n",
              "      <th>N</th>\n",
              "      <th>P</th>\n",
              "      <th>K</th>\n",
              "      <th>temperature</th>\n",
              "      <th>humidity</th>\n",
              "      <th>ph</th>\n",
              "      <th>rainfall</th>\n",
              "      <th>label</th>\n",
              "    </tr>\n",
              "  </thead>\n",
              "  <tbody>\n",
              "    <tr>\n",
              "      <th>0</th>\n",
              "      <td>90.0</td>\n",
              "      <td>42.0</td>\n",
              "      <td>43.0</td>\n",
              "      <td>20.88</td>\n",
              "      <td>82.00</td>\n",
              "      <td>6.50</td>\n",
              "      <td>202.94</td>\n",
              "      <td>rice</td>\n",
              "    </tr>\n",
              "    <tr>\n",
              "      <th>1</th>\n",
              "      <td>85.0</td>\n",
              "      <td>58.0</td>\n",
              "      <td>41.0</td>\n",
              "      <td>21.77</td>\n",
              "      <td>80.32</td>\n",
              "      <td>7.04</td>\n",
              "      <td>226.66</td>\n",
              "      <td>rice</td>\n",
              "    </tr>\n",
              "    <tr>\n",
              "      <th>2</th>\n",
              "      <td>60.0</td>\n",
              "      <td>55.0</td>\n",
              "      <td>44.0</td>\n",
              "      <td>23.00</td>\n",
              "      <td>82.32</td>\n",
              "      <td>7.84</td>\n",
              "      <td>263.96</td>\n",
              "      <td>rice</td>\n",
              "    </tr>\n",
              "    <tr>\n",
              "      <th>3</th>\n",
              "      <td>74.0</td>\n",
              "      <td>35.0</td>\n",
              "      <td>40.0</td>\n",
              "      <td>26.49</td>\n",
              "      <td>80.16</td>\n",
              "      <td>6.98</td>\n",
              "      <td>242.86</td>\n",
              "      <td>rice</td>\n",
              "    </tr>\n",
              "    <tr>\n",
              "      <th>4</th>\n",
              "      <td>78.0</td>\n",
              "      <td>42.0</td>\n",
              "      <td>42.0</td>\n",
              "      <td>20.13</td>\n",
              "      <td>81.60</td>\n",
              "      <td>7.63</td>\n",
              "      <td>262.72</td>\n",
              "      <td>rice</td>\n",
              "    </tr>\n",
              "    <tr>\n",
              "      <th>5</th>\n",
              "      <td>69.0</td>\n",
              "      <td>37.0</td>\n",
              "      <td>42.0</td>\n",
              "      <td>23.06</td>\n",
              "      <td>83.37</td>\n",
              "      <td>7.07</td>\n",
              "      <td>251.05</td>\n",
              "      <td>rice</td>\n",
              "    </tr>\n",
              "    <tr>\n",
              "      <th>6</th>\n",
              "      <td>69.0</td>\n",
              "      <td>55.0</td>\n",
              "      <td>38.0</td>\n",
              "      <td>22.71</td>\n",
              "      <td>82.64</td>\n",
              "      <td>5.70</td>\n",
              "      <td>271.32</td>\n",
              "      <td>rice</td>\n",
              "    </tr>\n",
              "    <tr>\n",
              "      <th>7</th>\n",
              "      <td>94.0</td>\n",
              "      <td>53.0</td>\n",
              "      <td>40.0</td>\n",
              "      <td>20.28</td>\n",
              "      <td>82.89</td>\n",
              "      <td>5.72</td>\n",
              "      <td>241.97</td>\n",
              "      <td>rice</td>\n",
              "    </tr>\n",
              "    <tr>\n",
              "      <th>8</th>\n",
              "      <td>89.0</td>\n",
              "      <td>54.0</td>\n",
              "      <td>38.0</td>\n",
              "      <td>24.52</td>\n",
              "      <td>83.54</td>\n",
              "      <td>6.69</td>\n",
              "      <td>230.45</td>\n",
              "      <td>rice</td>\n",
              "    </tr>\n",
              "    <tr>\n",
              "      <th>9</th>\n",
              "      <td>68.0</td>\n",
              "      <td>58.0</td>\n",
              "      <td>38.0</td>\n",
              "      <td>23.22</td>\n",
              "      <td>83.03</td>\n",
              "      <td>6.34</td>\n",
              "      <td>221.21</td>\n",
              "      <td>rice</td>\n",
              "    </tr>\n",
              "  </tbody>\n",
              "</table>\n",
              "</div>"
            ],
            "text/plain": [
              "      N     P     K  temperature  humidity    ph  rainfall label\n",
              "0  90.0  42.0  43.0        20.88     82.00  6.50    202.94  rice\n",
              "1  85.0  58.0  41.0        21.77     80.32  7.04    226.66  rice\n",
              "2  60.0  55.0  44.0        23.00     82.32  7.84    263.96  rice\n",
              "3  74.0  35.0  40.0        26.49     80.16  6.98    242.86  rice\n",
              "4  78.0  42.0  42.0        20.13     81.60  7.63    262.72  rice\n",
              "5  69.0  37.0  42.0        23.06     83.37  7.07    251.05  rice\n",
              "6  69.0  55.0  38.0        22.71     82.64  5.70    271.32  rice\n",
              "7  94.0  53.0  40.0        20.28     82.89  5.72    241.97  rice\n",
              "8  89.0  54.0  38.0        24.52     83.54  6.69    230.45  rice\n",
              "9  68.0  58.0  38.0        23.22     83.03  6.34    221.21  rice"
            ]
          },
          "metadata": {
            "tags": []
          },
          "execution_count": 129
        }
      ]
    },
    {
      "cell_type": "code",
      "metadata": {
        "colab": {
          "base_uri": "https://localhost:8080/",
          "height": 343
        },
        "id": "LLYg-mZt0xTO",
        "outputId": "0f2c0f80-6512-4124-f42f-a11bf973f05e"
      },
      "source": [
        "dataset.tail(10)"
      ],
      "execution_count": 130,
      "outputs": [
        {
          "output_type": "execute_result",
          "data": {
            "text/html": [
              "<div>\n",
              "<style scoped>\n",
              "    .dataframe tbody tr th:only-of-type {\n",
              "        vertical-align: middle;\n",
              "    }\n",
              "\n",
              "    .dataframe tbody tr th {\n",
              "        vertical-align: top;\n",
              "    }\n",
              "\n",
              "    .dataframe thead th {\n",
              "        text-align: right;\n",
              "    }\n",
              "</style>\n",
              "<table border=\"1\" class=\"dataframe\">\n",
              "  <thead>\n",
              "    <tr style=\"text-align: right;\">\n",
              "      <th></th>\n",
              "      <th>N</th>\n",
              "      <th>P</th>\n",
              "      <th>K</th>\n",
              "      <th>temperature</th>\n",
              "      <th>humidity</th>\n",
              "      <th>ph</th>\n",
              "      <th>rainfall</th>\n",
              "      <th>label</th>\n",
              "    </tr>\n",
              "  </thead>\n",
              "  <tbody>\n",
              "    <tr>\n",
              "      <th>2489</th>\n",
              "      <td>79.0</td>\n",
              "      <td>45.0</td>\n",
              "      <td>43.0</td>\n",
              "      <td>NaN</td>\n",
              "      <td>79.16</td>\n",
              "      <td>7.17</td>\n",
              "      <td>187.17</td>\n",
              "      <td>jute</td>\n",
              "    </tr>\n",
              "    <tr>\n",
              "      <th>2490</th>\n",
              "      <td>84.0</td>\n",
              "      <td>40.0</td>\n",
              "      <td>NaN</td>\n",
              "      <td>25.01</td>\n",
              "      <td>88.33</td>\n",
              "      <td>7.23</td>\n",
              "      <td>169.42</td>\n",
              "      <td>jute</td>\n",
              "    </tr>\n",
              "    <tr>\n",
              "      <th>2491</th>\n",
              "      <td>98.0</td>\n",
              "      <td>NaN</td>\n",
              "      <td>35.0</td>\n",
              "      <td>25.41</td>\n",
              "      <td>76.44</td>\n",
              "      <td>7.32</td>\n",
              "      <td>188.64</td>\n",
              "      <td>jute</td>\n",
              "    </tr>\n",
              "    <tr>\n",
              "      <th>2492</th>\n",
              "      <td>NaN</td>\n",
              "      <td>24.0</td>\n",
              "      <td>33.0</td>\n",
              "      <td>26.54</td>\n",
              "      <td>67.10</td>\n",
              "      <td>6.81</td>\n",
              "      <td>120.65</td>\n",
              "      <td>coffee</td>\n",
              "    </tr>\n",
              "    <tr>\n",
              "      <th>2493</th>\n",
              "      <td>86.0</td>\n",
              "      <td>NaN</td>\n",
              "      <td>35.0</td>\n",
              "      <td>27.01</td>\n",
              "      <td>60.77</td>\n",
              "      <td>6.49</td>\n",
              "      <td>191.45</td>\n",
              "      <td>coffee</td>\n",
              "    </tr>\n",
              "    <tr>\n",
              "      <th>2494</th>\n",
              "      <td>88.0</td>\n",
              "      <td>35.0</td>\n",
              "      <td>NaN</td>\n",
              "      <td>27.56</td>\n",
              "      <td>58.46</td>\n",
              "      <td>6.78</td>\n",
              "      <td>117.94</td>\n",
              "      <td>coffee</td>\n",
              "    </tr>\n",
              "    <tr>\n",
              "      <th>2495</th>\n",
              "      <td>84.0</td>\n",
              "      <td>27.0</td>\n",
              "      <td>29.0</td>\n",
              "      <td>NaN</td>\n",
              "      <td>53.00</td>\n",
              "      <td>7.17</td>\n",
              "      <td>168.26</td>\n",
              "      <td>coffee</td>\n",
              "    </tr>\n",
              "    <tr>\n",
              "      <th>2496</th>\n",
              "      <td>120.0</td>\n",
              "      <td>40.0</td>\n",
              "      <td>33.0</td>\n",
              "      <td>24.24</td>\n",
              "      <td>NaN</td>\n",
              "      <td>6.73</td>\n",
              "      <td>115.16</td>\n",
              "      <td>coffee</td>\n",
              "    </tr>\n",
              "    <tr>\n",
              "      <th>2497</th>\n",
              "      <td>106.0</td>\n",
              "      <td>40.0</td>\n",
              "      <td>30.0</td>\n",
              "      <td>23.43</td>\n",
              "      <td>64.11</td>\n",
              "      <td>NaN</td>\n",
              "      <td>122.68</td>\n",
              "      <td>coffee</td>\n",
              "    </tr>\n",
              "    <tr>\n",
              "      <th>2498</th>\n",
              "      <td>113.0</td>\n",
              "      <td>21.0</td>\n",
              "      <td>33.0</td>\n",
              "      <td>26.02</td>\n",
              "      <td>55.83</td>\n",
              "      <td>7.28</td>\n",
              "      <td>NaN</td>\n",
              "      <td>coffee</td>\n",
              "    </tr>\n",
              "  </tbody>\n",
              "</table>\n",
              "</div>"
            ],
            "text/plain": [
              "          N     P     K  temperature  humidity    ph  rainfall   label\n",
              "2489   79.0  45.0  43.0          NaN     79.16  7.17    187.17    jute\n",
              "2490   84.0  40.0   NaN        25.01     88.33  7.23    169.42    jute\n",
              "2491   98.0   NaN  35.0        25.41     76.44  7.32    188.64    jute\n",
              "2492    NaN  24.0  33.0        26.54     67.10  6.81    120.65  coffee\n",
              "2493   86.0   NaN  35.0        27.01     60.77  6.49    191.45  coffee\n",
              "2494   88.0  35.0   NaN        27.56     58.46  6.78    117.94  coffee\n",
              "2495   84.0  27.0  29.0          NaN     53.00  7.17    168.26  coffee\n",
              "2496  120.0  40.0  33.0        24.24       NaN  6.73    115.16  coffee\n",
              "2497  106.0  40.0  30.0        23.43     64.11   NaN    122.68  coffee\n",
              "2498  113.0  21.0  33.0        26.02     55.83  7.28       NaN  coffee"
            ]
          },
          "metadata": {
            "tags": []
          },
          "execution_count": 130
        }
      ]
    },
    {
      "cell_type": "code",
      "metadata": {
        "colab": {
          "base_uri": "https://localhost:8080/"
        },
        "id": "q6gmkaNu0xTO",
        "outputId": "2915a04f-838a-4420-a426-4694fa20d275"
      },
      "source": [
        "#22 Unique values that can be determined or predicted\n",
        "len(set(dataset['label']))"
      ],
      "execution_count": 131,
      "outputs": [
        {
          "output_type": "execute_result",
          "data": {
            "text/plain": [
              "22"
            ]
          },
          "metadata": {
            "tags": []
          },
          "execution_count": 131
        }
      ]
    },
    {
      "cell_type": "code",
      "metadata": {
        "colab": {
          "base_uri": "https://localhost:8080/"
        },
        "id": "G9ANO_nU0xTP",
        "outputId": "f3796220-cc70-42be-ca63-660787b962c3"
      },
      "source": [
        "dataset['label'].unique()"
      ],
      "execution_count": 132,
      "outputs": [
        {
          "output_type": "execute_result",
          "data": {
            "text/plain": [
              "array(['rice', 'maize', 'chickpea', 'kidneybeans', 'pigeonpeas',\n",
              "       'mothbeans', 'mungbean', 'blackgram', 'lentil', 'pomegranate',\n",
              "       'banana', 'mango', 'grapes', 'watermelon', 'muskmelon', 'apple',\n",
              "       'orange', 'papaya', 'coconut', 'cotton', 'jute', 'coffee'],\n",
              "      dtype=object)"
            ]
          },
          "metadata": {
            "tags": []
          },
          "execution_count": 132
        }
      ]
    },
    {
      "cell_type": "code",
      "metadata": {
        "colab": {
          "base_uri": "https://localhost:8080/"
        },
        "id": "A-HMGbaJ0xTQ",
        "outputId": "2f800861-e1d7-4b92-9b08-6746d238b595"
      },
      "source": [
        "print(dataset.describe())"
      ],
      "execution_count": 133,
      "outputs": [
        {
          "output_type": "stream",
          "text": [
            "                 N            P  ...           ph     rainfall\n",
            "count  2468.000000  2449.000000  ...  2458.000000  2480.000000\n",
            "mean     50.416937    53.446713  ...     6.480183   103.858835\n",
            "std      36.404307    32.503854  ...     0.773014    55.558687\n",
            "min       0.000000     5.000000  ...     3.500000    20.210000\n",
            "25%      22.000000    29.000000  ...     5.980000    64.237500\n",
            "50%      37.000000    52.000000  ...     6.440000    94.450000\n",
            "75%      83.000000    67.000000  ...     6.920000   126.302500\n",
            "max     140.000000   145.000000  ...     9.940000   298.560000\n",
            "\n",
            "[8 rows x 7 columns]\n"
          ],
          "name": "stdout"
        }
      ]
    },
    {
      "cell_type": "markdown",
      "metadata": {
        "id": "9miRT9WS0xTQ"
      },
      "source": [
        "<h3>Checking for missing values</h3>"
      ]
    },
    {
      "cell_type": "code",
      "metadata": {
        "colab": {
          "base_uri": "https://localhost:8080/",
          "height": 402
        },
        "id": "L0WgMEQe0xTR",
        "outputId": "0beb8b20-e46d-4403-d664-e8eff1839514"
      },
      "source": [
        "dataset.isnull()"
      ],
      "execution_count": 134,
      "outputs": [
        {
          "output_type": "execute_result",
          "data": {
            "text/html": [
              "<div>\n",
              "<style scoped>\n",
              "    .dataframe tbody tr th:only-of-type {\n",
              "        vertical-align: middle;\n",
              "    }\n",
              "\n",
              "    .dataframe tbody tr th {\n",
              "        vertical-align: top;\n",
              "    }\n",
              "\n",
              "    .dataframe thead th {\n",
              "        text-align: right;\n",
              "    }\n",
              "</style>\n",
              "<table border=\"1\" class=\"dataframe\">\n",
              "  <thead>\n",
              "    <tr style=\"text-align: right;\">\n",
              "      <th></th>\n",
              "      <th>N</th>\n",
              "      <th>P</th>\n",
              "      <th>K</th>\n",
              "      <th>temperature</th>\n",
              "      <th>humidity</th>\n",
              "      <th>ph</th>\n",
              "      <th>rainfall</th>\n",
              "      <th>label</th>\n",
              "    </tr>\n",
              "  </thead>\n",
              "  <tbody>\n",
              "    <tr>\n",
              "      <th>0</th>\n",
              "      <td>False</td>\n",
              "      <td>False</td>\n",
              "      <td>False</td>\n",
              "      <td>False</td>\n",
              "      <td>False</td>\n",
              "      <td>False</td>\n",
              "      <td>False</td>\n",
              "      <td>False</td>\n",
              "    </tr>\n",
              "    <tr>\n",
              "      <th>1</th>\n",
              "      <td>False</td>\n",
              "      <td>False</td>\n",
              "      <td>False</td>\n",
              "      <td>False</td>\n",
              "      <td>False</td>\n",
              "      <td>False</td>\n",
              "      <td>False</td>\n",
              "      <td>False</td>\n",
              "    </tr>\n",
              "    <tr>\n",
              "      <th>2</th>\n",
              "      <td>False</td>\n",
              "      <td>False</td>\n",
              "      <td>False</td>\n",
              "      <td>False</td>\n",
              "      <td>False</td>\n",
              "      <td>False</td>\n",
              "      <td>False</td>\n",
              "      <td>False</td>\n",
              "    </tr>\n",
              "    <tr>\n",
              "      <th>3</th>\n",
              "      <td>False</td>\n",
              "      <td>False</td>\n",
              "      <td>False</td>\n",
              "      <td>False</td>\n",
              "      <td>False</td>\n",
              "      <td>False</td>\n",
              "      <td>False</td>\n",
              "      <td>False</td>\n",
              "    </tr>\n",
              "    <tr>\n",
              "      <th>4</th>\n",
              "      <td>False</td>\n",
              "      <td>False</td>\n",
              "      <td>False</td>\n",
              "      <td>False</td>\n",
              "      <td>False</td>\n",
              "      <td>False</td>\n",
              "      <td>False</td>\n",
              "      <td>False</td>\n",
              "    </tr>\n",
              "    <tr>\n",
              "      <th>...</th>\n",
              "      <td>...</td>\n",
              "      <td>...</td>\n",
              "      <td>...</td>\n",
              "      <td>...</td>\n",
              "      <td>...</td>\n",
              "      <td>...</td>\n",
              "      <td>...</td>\n",
              "      <td>...</td>\n",
              "    </tr>\n",
              "    <tr>\n",
              "      <th>2494</th>\n",
              "      <td>False</td>\n",
              "      <td>False</td>\n",
              "      <td>True</td>\n",
              "      <td>False</td>\n",
              "      <td>False</td>\n",
              "      <td>False</td>\n",
              "      <td>False</td>\n",
              "      <td>False</td>\n",
              "    </tr>\n",
              "    <tr>\n",
              "      <th>2495</th>\n",
              "      <td>False</td>\n",
              "      <td>False</td>\n",
              "      <td>False</td>\n",
              "      <td>True</td>\n",
              "      <td>False</td>\n",
              "      <td>False</td>\n",
              "      <td>False</td>\n",
              "      <td>False</td>\n",
              "    </tr>\n",
              "    <tr>\n",
              "      <th>2496</th>\n",
              "      <td>False</td>\n",
              "      <td>False</td>\n",
              "      <td>False</td>\n",
              "      <td>False</td>\n",
              "      <td>True</td>\n",
              "      <td>False</td>\n",
              "      <td>False</td>\n",
              "      <td>False</td>\n",
              "    </tr>\n",
              "    <tr>\n",
              "      <th>2497</th>\n",
              "      <td>False</td>\n",
              "      <td>False</td>\n",
              "      <td>False</td>\n",
              "      <td>False</td>\n",
              "      <td>False</td>\n",
              "      <td>True</td>\n",
              "      <td>False</td>\n",
              "      <td>False</td>\n",
              "    </tr>\n",
              "    <tr>\n",
              "      <th>2498</th>\n",
              "      <td>False</td>\n",
              "      <td>False</td>\n",
              "      <td>False</td>\n",
              "      <td>False</td>\n",
              "      <td>False</td>\n",
              "      <td>False</td>\n",
              "      <td>True</td>\n",
              "      <td>False</td>\n",
              "    </tr>\n",
              "  </tbody>\n",
              "</table>\n",
              "<p>2499 rows × 8 columns</p>\n",
              "</div>"
            ],
            "text/plain": [
              "          N      P      K  temperature  humidity     ph  rainfall  label\n",
              "0     False  False  False        False     False  False     False  False\n",
              "1     False  False  False        False     False  False     False  False\n",
              "2     False  False  False        False     False  False     False  False\n",
              "3     False  False  False        False     False  False     False  False\n",
              "4     False  False  False        False     False  False     False  False\n",
              "...     ...    ...    ...          ...       ...    ...       ...    ...\n",
              "2494  False  False   True        False     False  False     False  False\n",
              "2495  False  False  False         True     False  False     False  False\n",
              "2496  False  False  False        False      True  False     False  False\n",
              "2497  False  False  False        False     False   True     False  False\n",
              "2498  False  False  False        False     False  False      True  False\n",
              "\n",
              "[2499 rows x 8 columns]"
            ]
          },
          "metadata": {
            "tags": []
          },
          "execution_count": 134
        }
      ]
    },
    {
      "cell_type": "code",
      "metadata": {
        "colab": {
          "base_uri": "https://localhost:8080/"
        },
        "id": "T_MEO-lc0xTR",
        "outputId": "1a7a98dc-0300-4f6d-8446-3696ceb9450b"
      },
      "source": [
        "dataset.count()"
      ],
      "execution_count": 135,
      "outputs": [
        {
          "output_type": "execute_result",
          "data": {
            "text/plain": [
              "N              2468\n",
              "P              2449\n",
              "K              2445\n",
              "temperature    2443\n",
              "humidity       2445\n",
              "ph             2458\n",
              "rainfall       2480\n",
              "label          2499\n",
              "dtype: int64"
            ]
          },
          "metadata": {
            "tags": []
          },
          "execution_count": 135
        }
      ]
    },
    {
      "cell_type": "code",
      "metadata": {
        "colab": {
          "base_uri": "https://localhost:8080/"
        },
        "id": "CfWxHTml0xTS",
        "outputId": "e16b29c4-059b-490a-d3a1-c7de383adcdb"
      },
      "source": [
        "dataset['label'].value_counts()"
      ],
      "execution_count": 136,
      "outputs": [
        {
          "output_type": "execute_result",
          "data": {
            "text/plain": [
              "papaya         171\n",
              "coconut        118\n",
              "watermelon     117\n",
              "mothbeans      117\n",
              "chickpea       116\n",
              "mungbean       115\n",
              "blackgram      114\n",
              "rice           113\n",
              "kidneybeans    112\n",
              "mango          112\n",
              "maize          112\n",
              "pigeonpeas     110\n",
              "cotton         110\n",
              "apple          110\n",
              "lentil         109\n",
              "pomegranate    108\n",
              "banana         108\n",
              "muskmelon      108\n",
              "coffee         107\n",
              "grapes         107\n",
              "jute           105\n",
              "orange         100\n",
              "Name: label, dtype: int64"
            ]
          },
          "metadata": {
            "tags": []
          },
          "execution_count": 136
        }
      ]
    },
    {
      "cell_type": "code",
      "metadata": {
        "colab": {
          "base_uri": "https://localhost:8080/"
        },
        "id": "tEaTDrhO_bzn",
        "outputId": "148b8042-a6a1-48eb-8d69-d0d1e47206ad"
      },
      "source": [
        "#CHECKING NO OF MISSING VALUES IN DATASETS\n",
        "dataset.isnull().sum()"
      ],
      "execution_count": 137,
      "outputs": [
        {
          "output_type": "execute_result",
          "data": {
            "text/plain": [
              "N              31\n",
              "P              50\n",
              "K              54\n",
              "temperature    56\n",
              "humidity       54\n",
              "ph             41\n",
              "rainfall       19\n",
              "label           0\n",
              "dtype: int64"
            ]
          },
          "metadata": {
            "tags": []
          },
          "execution_count": 137
        }
      ]
    },
    {
      "cell_type": "markdown",
      "metadata": {
        "id": "i37_xr9tgi1C"
      },
      "source": [
        "<h2>Addressing the missing values</h2>"
      ]
    },
    {
      "cell_type": "markdown",
      "metadata": {
        "id": "HFbIMHP7gXQE"
      },
      "source": [
        "<h3>For Nitrogen</h3>"
      ]
    },
    {
      "cell_type": "code",
      "metadata": {
        "colab": {
          "base_uri": "https://localhost:8080/",
          "height": 350
        },
        "id": "317azO5WCRTp",
        "outputId": "a0f973a2-a708-479b-b50d-635a6f8d2dae"
      },
      "source": [
        "sns.distplot(dataset.N)"
      ],
      "execution_count": 138,
      "outputs": [
        {
          "output_type": "stream",
          "text": [
            "/usr/local/lib/python3.7/dist-packages/seaborn/distributions.py:2557: FutureWarning: `distplot` is a deprecated function and will be removed in a future version. Please adapt your code to use either `displot` (a figure-level function with similar flexibility) or `histplot` (an axes-level function for histograms).\n",
            "  warnings.warn(msg, FutureWarning)\n"
          ],
          "name": "stderr"
        },
        {
          "output_type": "execute_result",
          "data": {
            "text/plain": [
              "<matplotlib.axes._subplots.AxesSubplot at 0x7f848f9ebf90>"
            ]
          },
          "metadata": {
            "tags": []
          },
          "execution_count": 138
        },
        {
          "output_type": "display_data",
          "data": {
            "image/png": "[encoded data removed]",
            "text/plain": [
              "<Figure size 432x288 with 1 Axes>"
            ]
          },
          "metadata": {
            "tags": [],
            "needs_background": "light"
          }
        }
      ]
    },
    {
      "cell_type": "markdown",
      "metadata": {
        "id": "xNUS8mgAC6O1"
      },
      "source": [
        "As the nitrogen data is not evenly distributed so taking mean for adding in missing value is not efficient so we are taking median as it is somewhat right skwed \n"
      ]
    },
    {
      "cell_type": "code",
      "metadata": {
        "id": "CQ8GwsikFYFf"
      },
      "source": [
        "#filling missing data of nitrogen with median \n",
        "dataset.fillna(dataset.N.median(),inplace=True)"
      ],
      "execution_count": 139,
      "outputs": []
    },
    {
      "cell_type": "code",
      "metadata": {
        "colab": {
          "base_uri": "https://localhost:8080/"
        },
        "id": "0LJdJAmDFmW9",
        "outputId": "2366002e-2c4c-4534-88f7-0ccd5a157312"
      },
      "source": [
        "#no of missing value after filling with median\n",
        "dataset.N.isnull().sum()"
      ],
      "execution_count": 140,
      "outputs": [
        {
          "output_type": "execute_result",
          "data": {
            "text/plain": [
              "0"
            ]
          },
          "metadata": {
            "tags": []
          },
          "execution_count": 140
        }
      ]
    },
    {
      "cell_type": "markdown",
      "metadata": {
        "id": "P_ZXv09wHu5L"
      },
      "source": [
        "For Phosphorous\n",
        "\n"
      ]
    },
    {
      "cell_type": "code",
      "metadata": {
        "colab": {
          "base_uri": "https://localhost:8080/",
          "height": 350
        },
        "id": "fXv_wHHqHxsV",
        "outputId": "ca4eed62-2db9-4d4d-bbf6-4b4d0fd189a3"
      },
      "source": [
        "sns.distplot(dataset.P)"
      ],
      "execution_count": 141,
      "outputs": [
        {
          "output_type": "stream",
          "text": [
            "/usr/local/lib/python3.7/dist-packages/seaborn/distributions.py:2557: FutureWarning: `distplot` is a deprecated function and will be removed in a future version. Please adapt your code to use either `displot` (a figure-level function with similar flexibility) or `histplot` (an axes-level function for histograms).\n",
            "  warnings.warn(msg, FutureWarning)\n"
          ],
          "name": "stderr"
        },
        {
          "output_type": "execute_result",
          "data": {
            "text/plain": [
              "<matplotlib.axes._subplots.AxesSubplot at 0x7f849903b790>"
            ]
          },
          "metadata": {
            "tags": []
          },
          "execution_count": 141
        },
        {
          "output_type": "display_data",
          "data": {
            "image/png": "[encoded data removed]",
            "text/plain": [
              "<Figure size 432x288 with 1 Axes>"
            ]
          },
          "metadata": {
            "tags": [],
            "needs_background": "light"
          }
        }
      ]
    },
    {
      "cell_type": "markdown",
      "metadata": {
        "id": "YaUmt4OyNinf"
      },
      "source": [
        "As there has certain outliers in the data plot so it is efficient to use median instead of mean,as mean is heavily influenced by the outlier which will not give efficient result"
      ]
    },
    {
      "cell_type": "code",
      "metadata": {
        "id": "kMn5cxz-J1tx"
      },
      "source": [
        "#filling missing data of phosphrous with median \n",
        "dataset.fillna(dataset.P.median(),inplace=True)"
      ],
      "execution_count": 142,
      "outputs": []
    },
    {
      "cell_type": "code",
      "metadata": {
        "colab": {
          "base_uri": "https://localhost:8080/"
        },
        "id": "QE-diB3dK_jJ",
        "outputId": "7d8e2892-7275-4479-e204-53c0a3ba818a"
      },
      "source": [
        "#no of missing value after filling with median\n",
        "dataset.P.isnull().sum()"
      ],
      "execution_count": 143,
      "outputs": [
        {
          "output_type": "execute_result",
          "data": {
            "text/plain": [
              "0"
            ]
          },
          "metadata": {
            "tags": []
          },
          "execution_count": 143
        }
      ]
    },
    {
      "cell_type": "markdown",
      "metadata": {
        "id": "uHWmnirzOU5Q"
      },
      "source": [
        "For Potassium"
      ]
    },
    {
      "cell_type": "code",
      "metadata": {
        "colab": {
          "base_uri": "https://localhost:8080/",
          "height": 350
        },
        "id": "KoMTAiRCOh6x",
        "outputId": "b33be629-97d2-4afe-cd51-8b959e653440"
      },
      "source": [
        "sns.distplot(dataset.K)"
      ],
      "execution_count": 144,
      "outputs": [
        {
          "output_type": "stream",
          "text": [
            "/usr/local/lib/python3.7/dist-packages/seaborn/distributions.py:2557: FutureWarning: `distplot` is a deprecated function and will be removed in a future version. Please adapt your code to use either `displot` (a figure-level function with similar flexibility) or `histplot` (an axes-level function for histograms).\n",
            "  warnings.warn(msg, FutureWarning)\n"
          ],
          "name": "stderr"
        },
        {
          "output_type": "execute_result",
          "data": {
            "text/plain": [
              "<matplotlib.axes._subplots.AxesSubplot at 0x7f848fceda50>"
            ]
          },
          "metadata": {
            "tags": []
          },
          "execution_count": 144
        },
        {
          "output_type": "display_data",
          "data": {
            "image/png": "[encoded data removed]",
            "text/plain": [
              "<Figure size 432x288 with 1 Axes>"
            ]
          },
          "metadata": {
            "tags": [],
            "needs_background": "light"
          }
        }
      ]
    },
    {
      "cell_type": "markdown",
      "metadata": {
        "id": "4sEKe2BMOn2d"
      },
      "source": [
        "Like phosphorous here is also outlier so mean is not effective ,but the mode is really good in this data as the frequency is really high"
      ]
    },
    {
      "cell_type": "code",
      "metadata": {
        "id": "fC7Eo6h7PIsK"
      },
      "source": [
        "#filling missing data of potassium with mode\n",
        "dataset.fillna(dataset.K.mode(),inplace=True)"
      ],
      "execution_count": 145,
      "outputs": []
    },
    {
      "cell_type": "code",
      "metadata": {
        "colab": {
          "base_uri": "https://localhost:8080/"
        },
        "id": "uSk99eSuPQ1v",
        "outputId": "3bfff560-5be6-4a57-d17d-ef68403e79df"
      },
      "source": [
        "#no of missing value after filling with mode\n",
        "dataset.K.isnull().sum()"
      ],
      "execution_count": 146,
      "outputs": [
        {
          "output_type": "execute_result",
          "data": {
            "text/plain": [
              "0"
            ]
          },
          "metadata": {
            "tags": []
          },
          "execution_count": 146
        }
      ]
    },
    {
      "cell_type": "markdown",
      "metadata": {
        "id": "4-TbsrRBTbQ2"
      },
      "source": [
        "For Temperature"
      ]
    },
    {
      "cell_type": "code",
      "metadata": {
        "colab": {
          "base_uri": "https://localhost:8080/",
          "height": 350
        },
        "id": "ck2Yn4z6TfuM",
        "outputId": "480cc73b-465b-4fa5-bc06-f1c9d479d180"
      },
      "source": [
        "sns.distplot(dataset.temperature)"
      ],
      "execution_count": 147,
      "outputs": [
        {
          "output_type": "stream",
          "text": [
            "/usr/local/lib/python3.7/dist-packages/seaborn/distributions.py:2557: FutureWarning: `distplot` is a deprecated function and will be removed in a future version. Please adapt your code to use either `displot` (a figure-level function with similar flexibility) or `histplot` (an axes-level function for histograms).\n",
            "  warnings.warn(msg, FutureWarning)\n"
          ],
          "name": "stderr"
        },
        {
          "output_type": "execute_result",
          "data": {
            "text/plain": [
              "<matplotlib.axes._subplots.AxesSubplot at 0x7f848f80bb90>"
            ]
          },
          "metadata": {
            "tags": []
          },
          "execution_count": 147
        },
        {
          "output_type": "display_data",
          "data": {
            "image/png": "[encoded data removed]",
            "text/plain": [
              "<Figure size 432x288 with 1 Axes>"
            ]
          },
          "metadata": {
            "tags": [],
            "needs_background": "light"
          }
        }
      ]
    },
    {
      "cell_type": "markdown",
      "metadata": {
        "id": "VjXJh15_T2ET"
      },
      "source": [
        "here the data is evenly distributed so mean is used for filling missing values "
      ]
    },
    {
      "cell_type": "code",
      "metadata": {
        "id": "JboMVEqtUF_V"
      },
      "source": [
        "#filling missing data of temperature with mean\n",
        "dataset.fillna(dataset.K.mean(),inplace=True)"
      ],
      "execution_count": 148,
      "outputs": []
    },
    {
      "cell_type": "code",
      "metadata": {
        "colab": {
          "base_uri": "https://localhost:8080/"
        },
        "id": "_jsr-lP8UkG9",
        "outputId": "540c71da-1a51-4f49-9303-a167f0bb6b81"
      },
      "source": [
        "#no of missing value after filling with mode\n",
        "dataset.temperature.isnull().sum()"
      ],
      "execution_count": 149,
      "outputs": [
        {
          "output_type": "execute_result",
          "data": {
            "text/plain": [
              "0"
            ]
          },
          "metadata": {
            "tags": []
          },
          "execution_count": 149
        }
      ]
    },
    {
      "cell_type": "markdown",
      "metadata": {
        "id": "Gkp6QLmcUp6O"
      },
      "source": [
        "For Humidity"
      ]
    },
    {
      "cell_type": "code",
      "metadata": {
        "colab": {
          "base_uri": "https://localhost:8080/",
          "height": 350
        },
        "id": "k7zs2qlkUuLc",
        "outputId": "eef954ca-650e-4774-d721-b07631e2e7c3"
      },
      "source": [
        "sns.distplot(dataset.humidity)"
      ],
      "execution_count": 150,
      "outputs": [
        {
          "output_type": "stream",
          "text": [
            "/usr/local/lib/python3.7/dist-packages/seaborn/distributions.py:2557: FutureWarning: `distplot` is a deprecated function and will be removed in a future version. Please adapt your code to use either `displot` (a figure-level function with similar flexibility) or `histplot` (an axes-level function for histograms).\n",
            "  warnings.warn(msg, FutureWarning)\n"
          ],
          "name": "stderr"
        },
        {
          "output_type": "execute_result",
          "data": {
            "text/plain": [
              "<matplotlib.axes._subplots.AxesSubplot at 0x7f848f6f0b50>"
            ]
          },
          "metadata": {
            "tags": []
          },
          "execution_count": 150
        },
        {
          "output_type": "display_data",
          "data": {
            "image/png": "[encoded data removed]",
            "text/plain": [
              "<Figure size 432x288 with 1 Axes>"
            ]
          },
          "metadata": {
            "tags": [],
            "needs_background": "light"
          }
        }
      ]
    },
    {
      "cell_type": "markdown",
      "metadata": {
        "id": "pmqMjrO3U2Sl"
      },
      "source": [
        "Here the distribution is left skewed so using median is the best for filling missing values "
      ]
    },
    {
      "cell_type": "code",
      "metadata": {
        "id": "R25c2q-_WoZE"
      },
      "source": [
        "#filling missing data of humidity with median \n",
        "dataset.fillna(dataset.humidity.median(),inplace=True)"
      ],
      "execution_count": 151,
      "outputs": []
    },
    {
      "cell_type": "code",
      "metadata": {
        "colab": {
          "base_uri": "https://localhost:8080/"
        },
        "id": "y_of-8vKW2AA",
        "outputId": "e119f224-bc2b-4bdd-cf5d-cbfbe4e8c17c"
      },
      "source": [
        "#no of missing value after filling with mode\n",
        "dataset.temperature.isnull().sum()"
      ],
      "execution_count": 152,
      "outputs": [
        {
          "output_type": "execute_result",
          "data": {
            "text/plain": [
              "0"
            ]
          },
          "metadata": {
            "tags": []
          },
          "execution_count": 152
        }
      ]
    },
    {
      "cell_type": "markdown",
      "metadata": {
        "id": "phZaFw6dY7OR"
      },
      "source": [
        "For PH"
      ]
    },
    {
      "cell_type": "code",
      "metadata": {
        "colab": {
          "base_uri": "https://localhost:8080/",
          "height": 350
        },
        "id": "d6i_A7TFZELL",
        "outputId": "c266c89c-55a9-4cc6-d549-9593b5d1e7fc"
      },
      "source": [
        "sns.distplot(dataset.ph)"
      ],
      "execution_count": 153,
      "outputs": [
        {
          "output_type": "stream",
          "text": [
            "/usr/local/lib/python3.7/dist-packages/seaborn/distributions.py:2557: FutureWarning: `distplot` is a deprecated function and will be removed in a future version. Please adapt your code to use either `displot` (a figure-level function with similar flexibility) or `histplot` (an axes-level function for histograms).\n",
            "  warnings.warn(msg, FutureWarning)\n"
          ],
          "name": "stderr"
        },
        {
          "output_type": "execute_result",
          "data": {
            "text/plain": [
              "<matplotlib.axes._subplots.AxesSubplot at 0x7f848f688e10>"
            ]
          },
          "metadata": {
            "tags": []
          },
          "execution_count": 153
        },
        {
          "output_type": "display_data",
          "data": {
            "image/png": "[encoded data removed]",
            "text/plain": [
              "<Figure size 432x288 with 1 Axes>"
            ]
          },
          "metadata": {
            "tags": [],
            "needs_background": "light"
          }
        }
      ]
    },
    {
      "cell_type": "markdown",
      "metadata": {
        "id": "OqNJp-RpZOsl"
      },
      "source": [
        "As the data is normally distributed,so mean is used to fill in missing values "
      ]
    },
    {
      "cell_type": "code",
      "metadata": {
        "id": "ugjDZtYIZaCD"
      },
      "source": [
        "#filling missing data of temperature with mean\n",
        "dataset.fillna(dataset.ph.mean(),inplace=True)"
      ],
      "execution_count": 154,
      "outputs": []
    },
    {
      "cell_type": "code",
      "metadata": {
        "colab": {
          "base_uri": "https://localhost:8080/"
        },
        "id": "1Ze96CIHZgVV",
        "outputId": "fd23b40e-14cd-43b2-83db-aafd856aa9d8"
      },
      "source": [
        "#no of missing value after filling with mean\n",
        "dataset.ph.isnull().sum()"
      ],
      "execution_count": 155,
      "outputs": [
        {
          "output_type": "execute_result",
          "data": {
            "text/plain": [
              "0"
            ]
          },
          "metadata": {
            "tags": []
          },
          "execution_count": 155
        }
      ]
    },
    {
      "cell_type": "markdown",
      "metadata": {
        "id": "j8eWh-UcZjzA"
      },
      "source": [
        "For Rainfall"
      ]
    },
    {
      "cell_type": "code",
      "metadata": {
        "colab": {
          "base_uri": "https://localhost:8080/",
          "height": 350
        },
        "id": "GTo6Z94ZZmuQ",
        "outputId": "8df66614-8ca2-448a-cefa-a27287726f4a"
      },
      "source": [
        "sns.distplot(dataset.rainfall)"
      ],
      "execution_count": 156,
      "outputs": [
        {
          "output_type": "stream",
          "text": [
            "/usr/local/lib/python3.7/dist-packages/seaborn/distributions.py:2557: FutureWarning: `distplot` is a deprecated function and will be removed in a future version. Please adapt your code to use either `displot` (a figure-level function with similar flexibility) or `histplot` (an axes-level function for histograms).\n",
            "  warnings.warn(msg, FutureWarning)\n"
          ],
          "name": "stderr"
        },
        {
          "output_type": "execute_result",
          "data": {
            "text/plain": [
              "<matplotlib.axes._subplots.AxesSubplot at 0x7f848f51fa10>"
            ]
          },
          "metadata": {
            "tags": []
          },
          "execution_count": 156
        },
        {
          "output_type": "display_data",
          "data": {
            "image/png": "[encoded data removed]",
            "text/plain": [
              "<Figure size 432x288 with 1 Axes>"
            ]
          },
          "metadata": {
            "tags": [],
            "needs_background": "light"
          }
        }
      ]
    },
    {
      "cell_type": "markdown",
      "metadata": {
        "id": "vFadH7zgaQ-K"
      },
      "source": [
        "As the distribution is right skewed so median is used for filling in missing data ."
      ]
    },
    {
      "cell_type": "code",
      "metadata": {
        "id": "FJZoi3DcaP-t"
      },
      "source": [
        "#filling missing data of rainfall with median \n",
        "dataset.fillna(dataset.rainfall.median(),inplace=True)"
      ],
      "execution_count": 157,
      "outputs": []
    },
    {
      "cell_type": "code",
      "metadata": {
        "colab": {
          "base_uri": "https://localhost:8080/"
        },
        "id": "XBWmZwL9alcs",
        "outputId": "643aec6a-7fa9-4dab-8eec-e48d3620fcf5"
      },
      "source": [
        "#no of missing value after filling with mean\n",
        "dataset.ph.isnull().sum()"
      ],
      "execution_count": 158,
      "outputs": [
        {
          "output_type": "execute_result",
          "data": {
            "text/plain": [
              "0"
            ]
          },
          "metadata": {
            "tags": []
          },
          "execution_count": 158
        }
      ]
    },
    {
      "cell_type": "code",
      "metadata": {
        "colab": {
          "base_uri": "https://localhost:8080/"
        },
        "id": "xbn91wL2amvq",
        "outputId": "8ce018e9-4244-4095-ee26-fe01c5eb1f85"
      },
      "source": [
        "#CHECKING NO OF MISSING VALUES IN DATASET AFTER FILLING IN MISSING VALUES\n",
        "dataset.isnull().sum()"
      ],
      "execution_count": 159,
      "outputs": [
        {
          "output_type": "execute_result",
          "data": {
            "text/plain": [
              "N              0\n",
              "P              0\n",
              "K              0\n",
              "temperature    0\n",
              "humidity       0\n",
              "ph             0\n",
              "rainfall       0\n",
              "label          0\n",
              "dtype: int64"
            ]
          },
          "metadata": {
            "tags": []
          },
          "execution_count": 159
        }
      ]
    },
    {
      "cell_type": "code",
      "metadata": {
        "colab": {
          "base_uri": "https://localhost:8080/",
          "height": 343
        },
        "id": "xPLAIdTVnK9e",
        "outputId": "9d6addc1-ea32-4042-fc3d-ebe0f85e6358"
      },
      "source": [
        "dataset.tail(10)"
      ],
      "execution_count": 160,
      "outputs": [
        {
          "output_type": "execute_result",
          "data": {
            "text/html": [
              "<div>\n",
              "<style scoped>\n",
              "    .dataframe tbody tr th:only-of-type {\n",
              "        vertical-align: middle;\n",
              "    }\n",
              "\n",
              "    .dataframe tbody tr th {\n",
              "        vertical-align: top;\n",
              "    }\n",
              "\n",
              "    .dataframe thead th {\n",
              "        text-align: right;\n",
              "    }\n",
              "</style>\n",
              "<table border=\"1\" class=\"dataframe\">\n",
              "  <thead>\n",
              "    <tr style=\"text-align: right;\">\n",
              "      <th></th>\n",
              "      <th>N</th>\n",
              "      <th>P</th>\n",
              "      <th>K</th>\n",
              "      <th>temperature</th>\n",
              "      <th>humidity</th>\n",
              "      <th>ph</th>\n",
              "      <th>rainfall</th>\n",
              "      <th>label</th>\n",
              "    </tr>\n",
              "  </thead>\n",
              "  <tbody>\n",
              "    <tr>\n",
              "      <th>2489</th>\n",
              "      <td>79.0</td>\n",
              "      <td>45.0</td>\n",
              "      <td>43.0</td>\n",
              "      <td>37.00</td>\n",
              "      <td>79.16</td>\n",
              "      <td>7.17</td>\n",
              "      <td>187.17</td>\n",
              "      <td>jute</td>\n",
              "    </tr>\n",
              "    <tr>\n",
              "      <th>2490</th>\n",
              "      <td>84.0</td>\n",
              "      <td>40.0</td>\n",
              "      <td>37.0</td>\n",
              "      <td>25.01</td>\n",
              "      <td>88.33</td>\n",
              "      <td>7.23</td>\n",
              "      <td>169.42</td>\n",
              "      <td>jute</td>\n",
              "    </tr>\n",
              "    <tr>\n",
              "      <th>2491</th>\n",
              "      <td>98.0</td>\n",
              "      <td>37.0</td>\n",
              "      <td>35.0</td>\n",
              "      <td>25.41</td>\n",
              "      <td>76.44</td>\n",
              "      <td>7.32</td>\n",
              "      <td>188.64</td>\n",
              "      <td>jute</td>\n",
              "    </tr>\n",
              "    <tr>\n",
              "      <th>2492</th>\n",
              "      <td>37.0</td>\n",
              "      <td>24.0</td>\n",
              "      <td>33.0</td>\n",
              "      <td>26.54</td>\n",
              "      <td>67.10</td>\n",
              "      <td>6.81</td>\n",
              "      <td>120.65</td>\n",
              "      <td>coffee</td>\n",
              "    </tr>\n",
              "    <tr>\n",
              "      <th>2493</th>\n",
              "      <td>86.0</td>\n",
              "      <td>37.0</td>\n",
              "      <td>35.0</td>\n",
              "      <td>27.01</td>\n",
              "      <td>60.77</td>\n",
              "      <td>6.49</td>\n",
              "      <td>191.45</td>\n",
              "      <td>coffee</td>\n",
              "    </tr>\n",
              "    <tr>\n",
              "      <th>2494</th>\n",
              "      <td>88.0</td>\n",
              "      <td>35.0</td>\n",
              "      <td>37.0</td>\n",
              "      <td>27.56</td>\n",
              "      <td>58.46</td>\n",
              "      <td>6.78</td>\n",
              "      <td>117.94</td>\n",
              "      <td>coffee</td>\n",
              "    </tr>\n",
              "    <tr>\n",
              "      <th>2495</th>\n",
              "      <td>84.0</td>\n",
              "      <td>27.0</td>\n",
              "      <td>29.0</td>\n",
              "      <td>37.00</td>\n",
              "      <td>53.00</td>\n",
              "      <td>7.17</td>\n",
              "      <td>168.26</td>\n",
              "      <td>coffee</td>\n",
              "    </tr>\n",
              "    <tr>\n",
              "      <th>2496</th>\n",
              "      <td>120.0</td>\n",
              "      <td>40.0</td>\n",
              "      <td>33.0</td>\n",
              "      <td>24.24</td>\n",
              "      <td>37.00</td>\n",
              "      <td>6.73</td>\n",
              "      <td>115.16</td>\n",
              "      <td>coffee</td>\n",
              "    </tr>\n",
              "    <tr>\n",
              "      <th>2497</th>\n",
              "      <td>106.0</td>\n",
              "      <td>40.0</td>\n",
              "      <td>30.0</td>\n",
              "      <td>23.43</td>\n",
              "      <td>64.11</td>\n",
              "      <td>37.00</td>\n",
              "      <td>122.68</td>\n",
              "      <td>coffee</td>\n",
              "    </tr>\n",
              "    <tr>\n",
              "      <th>2498</th>\n",
              "      <td>113.0</td>\n",
              "      <td>21.0</td>\n",
              "      <td>33.0</td>\n",
              "      <td>26.02</td>\n",
              "      <td>55.83</td>\n",
              "      <td>7.28</td>\n",
              "      <td>37.00</td>\n",
              "      <td>coffee</td>\n",
              "    </tr>\n",
              "  </tbody>\n",
              "</table>\n",
              "</div>"
            ],
            "text/plain": [
              "          N     P     K  temperature  humidity     ph  rainfall   label\n",
              "2489   79.0  45.0  43.0        37.00     79.16   7.17    187.17    jute\n",
              "2490   84.0  40.0  37.0        25.01     88.33   7.23    169.42    jute\n",
              "2491   98.0  37.0  35.0        25.41     76.44   7.32    188.64    jute\n",
              "2492   37.0  24.0  33.0        26.54     67.10   6.81    120.65  coffee\n",
              "2493   86.0  37.0  35.0        27.01     60.77   6.49    191.45  coffee\n",
              "2494   88.0  35.0  37.0        27.56     58.46   6.78    117.94  coffee\n",
              "2495   84.0  27.0  29.0        37.00     53.00   7.17    168.26  coffee\n",
              "2496  120.0  40.0  33.0        24.24     37.00   6.73    115.16  coffee\n",
              "2497  106.0  40.0  30.0        23.43     64.11  37.00    122.68  coffee\n",
              "2498  113.0  21.0  33.0        26.02     55.83   7.28     37.00  coffee"
            ]
          },
          "metadata": {
            "tags": []
          },
          "execution_count": 160
        }
      ]
    },
    {
      "cell_type": "markdown",
      "metadata": {
        "id": "-ov4j0nx0xTS"
      },
      "source": [
        "<h3> Data Visualization </h3>"
      ]
    },
    {
      "cell_type": "markdown",
      "metadata": {
        "id": "Dul8AkbnZuNx"
      },
      "source": [
        "As the distribution is right "
      ]
    },
    {
      "cell_type": "code",
      "metadata": {
        "colab": {
          "base_uri": "https://localhost:8080/",
          "height": 353
        },
        "id": "qAPzg2g00xTS",
        "outputId": "4faef0ec-dcea-4052-cb59-b57cafe8d752"
      },
      "source": [
        "ax = dataset['label'].value_counts().plot(kind='bar')\n",
        "ax.set_ylabel(\"Counts\")\n",
        "ax.set_xlabel(\"crops\")\n",
        "\n",
        "#This shows that the labels are evenly distributed and no class imbalance"
      ],
      "execution_count": 161,
      "outputs": [
        {
          "output_type": "execute_result",
          "data": {
            "text/plain": [
              "Text(0.5, 0, 'crops')"
            ]
          },
          "metadata": {
            "tags": []
          },
          "execution_count": 161
        },
        {
          "output_type": "display_data",
          "data": {
            "image/png": "[encoded data removed]",
            "text/plain": [
              "<Figure size 432x288 with 1 Axes>"
            ]
          },
          "metadata": {
            "tags": [],
            "needs_background": "light"
          }
        }
      ]
    },
    {
      "cell_type": "code",
      "metadata": {
        "colab": {
          "base_uri": "https://localhost:8080/",
          "height": 254
        },
        "id": "avwGirtX0xTT",
        "outputId": "81297b5a-62c6-4130-8088-acf9566b503b"
      },
      "source": [
        "dataset.corr(method=\"pearson\")"
      ],
      "execution_count": 162,
      "outputs": [
        {
          "output_type": "execute_result",
          "data": {
            "text/html": [
              "<div>\n",
              "<style scoped>\n",
              "    .dataframe tbody tr th:only-of-type {\n",
              "        vertical-align: middle;\n",
              "    }\n",
              "\n",
              "    .dataframe tbody tr th {\n",
              "        vertical-align: top;\n",
              "    }\n",
              "\n",
              "    .dataframe thead th {\n",
              "        text-align: right;\n",
              "    }\n",
              "</style>\n",
              "<table border=\"1\" class=\"dataframe\">\n",
              "  <thead>\n",
              "    <tr style=\"text-align: right;\">\n",
              "      <th></th>\n",
              "      <th>N</th>\n",
              "      <th>P</th>\n",
              "      <th>K</th>\n",
              "      <th>temperature</th>\n",
              "      <th>humidity</th>\n",
              "      <th>ph</th>\n",
              "      <th>rainfall</th>\n",
              "    </tr>\n",
              "  </thead>\n",
              "  <tbody>\n",
              "    <tr>\n",
              "      <th>N</th>\n",
              "      <td>1.000000</td>\n",
              "      <td>-0.227089</td>\n",
              "      <td>-0.138314</td>\n",
              "      <td>0.013375</td>\n",
              "      <td>0.187278</td>\n",
              "      <td>0.003861</td>\n",
              "      <td>0.051795</td>\n",
              "    </tr>\n",
              "    <tr>\n",
              "      <th>P</th>\n",
              "      <td>-0.227089</td>\n",
              "      <td>1.000000</td>\n",
              "      <td>0.727693</td>\n",
              "      <td>-0.111922</td>\n",
              "      <td>-0.114259</td>\n",
              "      <td>-0.019935</td>\n",
              "      <td>-0.061832</td>\n",
              "    </tr>\n",
              "    <tr>\n",
              "      <th>K</th>\n",
              "      <td>-0.138314</td>\n",
              "      <td>0.727693</td>\n",
              "      <td>1.000000</td>\n",
              "      <td>-0.140030</td>\n",
              "      <td>0.178798</td>\n",
              "      <td>-0.032406</td>\n",
              "      <td>-0.050099</td>\n",
              "    </tr>\n",
              "    <tr>\n",
              "      <th>temperature</th>\n",
              "      <td>0.013375</td>\n",
              "      <td>-0.111922</td>\n",
              "      <td>-0.140030</td>\n",
              "      <td>1.000000</td>\n",
              "      <td>0.203262</td>\n",
              "      <td>0.065065</td>\n",
              "      <td>-0.009452</td>\n",
              "    </tr>\n",
              "    <tr>\n",
              "      <th>humidity</th>\n",
              "      <td>0.187278</td>\n",
              "      <td>-0.114259</td>\n",
              "      <td>0.178798</td>\n",
              "      <td>0.203262</td>\n",
              "      <td>1.000000</td>\n",
              "      <td>0.011225</td>\n",
              "      <td>0.101691</td>\n",
              "    </tr>\n",
              "    <tr>\n",
              "      <th>ph</th>\n",
              "      <td>0.003861</td>\n",
              "      <td>-0.019935</td>\n",
              "      <td>-0.032406</td>\n",
              "      <td>0.065065</td>\n",
              "      <td>0.011225</td>\n",
              "      <td>1.000000</td>\n",
              "      <td>0.002933</td>\n",
              "    </tr>\n",
              "    <tr>\n",
              "      <th>rainfall</th>\n",
              "      <td>0.051795</td>\n",
              "      <td>-0.061832</td>\n",
              "      <td>-0.050099</td>\n",
              "      <td>-0.009452</td>\n",
              "      <td>0.101691</td>\n",
              "      <td>0.002933</td>\n",
              "      <td>1.000000</td>\n",
              "    </tr>\n",
              "  </tbody>\n",
              "</table>\n",
              "</div>"
            ],
            "text/plain": [
              "                    N         P         K  ...  humidity        ph  rainfall\n",
              "N            1.000000 -0.227089 -0.138314  ...  0.187278  0.003861  0.051795\n",
              "P           -0.227089  1.000000  0.727693  ... -0.114259 -0.019935 -0.061832\n",
              "K           -0.138314  0.727693  1.000000  ...  0.178798 -0.032406 -0.050099\n",
              "temperature  0.013375 -0.111922 -0.140030  ...  0.203262  0.065065 -0.009452\n",
              "humidity     0.187278 -0.114259  0.178798  ...  1.000000  0.011225  0.101691\n",
              "ph           0.003861 -0.019935 -0.032406  ...  0.011225  1.000000  0.002933\n",
              "rainfall     0.051795 -0.061832 -0.050099  ...  0.101691  0.002933  1.000000\n",
              "\n",
              "[7 rows x 7 columns]"
            ]
          },
          "metadata": {
            "tags": []
          },
          "execution_count": 162
        }
      ]
    },
    {
      "cell_type": "code",
      "metadata": {
        "colab": {
          "base_uri": "https://localhost:8080/",
          "height": 339
        },
        "id": "1lsnnl2f0xTU",
        "outputId": "828c3cc4-26dc-4ed9-ec9e-904b2daf8ea7"
      },
      "source": [
        "sns.heatmap(dataset.corr(),annot=True)\n",
        "#heatmap used for data visualization which is called via importing seaborn package . Seaborn is similiar to matplotlib used for data visualization"
      ],
      "execution_count": 163,
      "outputs": [
        {
          "output_type": "execute_result",
          "data": {
            "text/plain": [
              "<matplotlib.axes._subplots.AxesSubplot at 0x7f848f467050>"
            ]
          },
          "metadata": {
            "tags": []
          },
          "execution_count": 163
        },
        {
          "output_type": "display_data",
          "data": {
            "image/png": "[encoded data removed]",
            "text/plain": [
              "<Figure size 432x288 with 2 Axes>"
            ]
          },
          "metadata": {
            "tags": [],
            "needs_background": "light"
          }
        }
      ]
    },
    {
      "cell_type": "markdown",
      "metadata": {
        "id": "bFGDeOAT0xTV"
      },
      "source": [
        "<h3> Standardization </h3>"
      ]
    },
    {
      "cell_type": "code",
      "metadata": {
        "id": "YTkT5Khu0xTV"
      },
      "source": [
        "#scaling = StandardScaler()\n",
        "#X=scaling.fit_transform(dataset[['N', 'P','K','temperature', 'humidity', 'ph', 'rainfall']])\n",
        "X=dataset[['N', 'P','K','temperature', 'humidity', 'ph', 'rainfall']]\n",
        "Y=dataset['label']"
      ],
      "execution_count": 164,
      "outputs": []
    },
    {
      "cell_type": "code",
      "metadata": {
        "id": "Us2oB1hb0xTW"
      },
      "source": [
        ""
      ],
      "execution_count": 164,
      "outputs": []
    },
    {
      "cell_type": "code",
      "metadata": {
        "colab": {
          "base_uri": "https://localhost:8080/"
        },
        "id": "xzp0aGdk0xTW",
        "outputId": "cd036b06-5805-46e6-89fd-3ec5949a37cd"
      },
      "source": [
        "# Split data 70%-30% into training set and test set\n",
        "X_train, X_test, Y_train, Y_test = train_test_split(X, Y, test_size=0.30, random_state=0)\n",
        "\n",
        "print ('Training Set: %d, rows\\nTest Set: %d rows' % (X_train.size, X_test.size))"
      ],
      "execution_count": 165,
      "outputs": [
        {
          "output_type": "stream",
          "text": [
            "Training Set: 12243, rows\n",
            "Test Set: 5250 rows\n"
          ],
          "name": "stdout"
        }
      ]
    },
    {
      "cell_type": "code",
      "metadata": {
        "id": "r8fQebG10xTW"
      },
      "source": [
        "acc = []\n",
        "model = []"
      ],
      "execution_count": 166,
      "outputs": []
    },
    {
      "cell_type": "markdown",
      "metadata": {
        "id": "2CQp-Qzl0xTX"
      },
      "source": [
        "<h3> Decision Tree Algorithm</h3>"
      ]
    },
    {
      "cell_type": "code",
      "metadata": {
        "colab": {
          "base_uri": "https://localhost:8080/"
        },
        "id": "WCR_PAxm0xTX",
        "outputId": "ae94b4e1-9ddf-4dbf-d462-49f1c286ee53"
      },
      "source": [
        "from sklearn.tree import DecisionTreeClassifier\n",
        "\n",
        "DecisionTree =Pipeline([('m',DecisionTreeClassifier(criterion=\"entropy\",random_state=2,max_depth=5))]) #random state???????????\n",
        "\n",
        "DecisionTree.fit(X_train,Y_train)#training our model with train data \n",
        "\n",
        "predicted_values = DecisionTree.predict(X_test)#predicting the Xtest after being trained with Xtrain\n",
        "\n",
        "x = metrics.accuracy_score(Y_test, predicted_values)#comparing the predicted value with actual result ie (Ytest) and finding the accuracy\n",
        "\n",
        "acc.append(x)\n",
        "model.append(('Decision Tree',DecisionTree))\n",
        "print(\"DecisionTrees's Accuracy is: \", x*100)\n",
        "\n",
        "print(classification_report(Y_test,predicted_values))#used to print the classification report ie precision,recall,f1score and accuracy"
      ],
      "execution_count": 167,
      "outputs": [
        {
          "output_type": "stream",
          "text": [
            "DecisionTrees's Accuracy is:  89.33333333333333\n",
            "              precision    recall  f1-score   support\n",
            "\n",
            "       apple       1.00      0.97      0.98        30\n",
            "      banana       0.74      0.98      0.84        44\n",
            "   blackgram       0.73      0.93      0.82        41\n",
            "    chickpea       0.97      0.97      0.97        35\n",
            "     coconut       1.00      0.90      0.95        40\n",
            "      coffee       1.00      0.91      0.95        33\n",
            "      cotton       1.00      0.87      0.93        23\n",
            "      grapes       1.00      0.93      0.96        27\n",
            "        jute       0.69      1.00      0.82        25\n",
            " kidneybeans       1.00      0.83      0.91        29\n",
            "      lentil       0.87      0.90      0.89        30\n",
            "       maize       0.77      0.96      0.86        28\n",
            "       mango       0.96      0.87      0.91        30\n",
            "   mothbeans       0.76      0.44      0.56        36\n",
            "    mungbean       1.00      0.94      0.97        33\n",
            "   muskmelon       1.00      1.00      1.00        33\n",
            "      orange       0.97      1.00      0.98        29\n",
            "      papaya       0.84      0.77      0.80        66\n",
            "  pigeonpeas       0.90      1.00      0.95        35\n",
            " pomegranate       0.93      1.00      0.96        39\n",
            "        rice       1.00      0.73      0.84        33\n",
            "  watermelon       0.90      0.90      0.90        31\n",
            "\n",
            "    accuracy                           0.89       750\n",
            "   macro avg       0.91      0.90      0.90       750\n",
            "weighted avg       0.90      0.89      0.89       750\n",
            "\n"
          ],
          "name": "stdout"
        }
      ]
    },
    {
      "cell_type": "code",
      "metadata": {
        "colab": {
          "base_uri": "https://localhost:8080/"
        },
        "id": "FlgJuUH_0xTY",
        "outputId": "48e01cc0-36a5-412b-a013-4d635a6a5577"
      },
      "source": [
        "from sklearn.model_selection import cross_val_score\n",
        "\n",
        "score = cross_val_score(DecisionTree, X, Y,cv=5)#cv=no of folds in cross validation,X and Y are the 7 parameters and the label\n",
        "\n",
        "print(score)"
      ],
      "execution_count": 168,
      "outputs": [
        {
          "output_type": "stream",
          "text": [
            "[0.944      0.932      0.93       0.896      0.75551102]\n"
          ],
          "name": "stdout"
        }
      ]
    },
    {
      "cell_type": "markdown",
      "metadata": {
        "id": "OgDbfWW50xTY"
      },
      "source": [
        "<h3>Gaussian Naive Bayes algorithm</h3>"
      ]
    },
    {
      "cell_type": "code",
      "metadata": {
        "colab": {
          "base_uri": "https://localhost:8080/"
        },
        "id": "b1aUYB4B0xTY",
        "outputId": "42a14ab5-0cfd-4bf5-d2c3-38268a2d50ab"
      },
      "source": [
        "from sklearn.naive_bayes import GaussianNB\n",
        "\n",
        "NaiveBayes = Pipeline([('m',GaussianNB())])\n",
        "\n",
        "NaiveBayes.fit(X_train,Y_train)\n",
        "\n",
        "predicted_values = NaiveBayes.predict(X_test)\n",
        "x = metrics.accuracy_score(Y_test, predicted_values)\n",
        "acc.append(x)\n",
        "model.append(('Naive Bayes',NaiveBayes))\n",
        "print(\"Naive Bayes's Accuracy is: \", x)\n",
        "\n",
        "print(classification_report(Y_test,predicted_values))"
      ],
      "execution_count": 169,
      "outputs": [
        {
          "output_type": "stream",
          "text": [
            "Naive Bayes's Accuracy is:  0.944\n",
            "              precision    recall  f1-score   support\n",
            "\n",
            "       apple       0.96      0.90      0.93        30\n",
            "      banana       1.00      0.95      0.98        44\n",
            "   blackgram       0.95      0.85      0.90        41\n",
            "    chickpea       1.00      0.97      0.99        35\n",
            "     coconut       1.00      0.97      0.99        40\n",
            "      coffee       1.00      1.00      1.00        33\n",
            "      cotton       0.87      0.87      0.87        23\n",
            "      grapes       0.93      0.93      0.93        27\n",
            "        jute       0.80      0.96      0.87        25\n",
            " kidneybeans       0.97      1.00      0.98        29\n",
            "      lentil       1.00      0.90      0.95        30\n",
            "       maize       0.93      0.89      0.91        28\n",
            "       mango       0.97      0.97      0.97        30\n",
            "   mothbeans       0.77      0.94      0.85        36\n",
            "    mungbean       1.00      0.94      0.97        33\n",
            "   muskmelon       1.00      0.97      0.98        33\n",
            "      orange       1.00      1.00      1.00        29\n",
            "      papaya       0.86      0.98      0.92        66\n",
            "  pigeonpeas       0.97      1.00      0.99        35\n",
            " pomegranate       1.00      0.95      0.97        39\n",
            "        rice       0.96      0.79      0.87        33\n",
            "  watermelon       0.97      0.97      0.97        31\n",
            "\n",
            "    accuracy                           0.94       750\n",
            "   macro avg       0.95      0.94      0.94       750\n",
            "weighted avg       0.95      0.94      0.94       750\n",
            "\n"
          ],
          "name": "stdout"
        }
      ]
    },
    {
      "cell_type": "code",
      "metadata": {
        "colab": {
          "base_uri": "https://localhost:8080/"
        },
        "id": "ytf4snPl0xTZ",
        "outputId": "9a869f3d-fafe-404a-b888-4799529e9625"
      },
      "source": [
        "# Cross validation score (NaiveBayes)\n",
        "score = cross_val_score(NaiveBayes,X,Y,cv=5)\n",
        "score"
      ],
      "execution_count": 170,
      "outputs": [
        {
          "output_type": "execute_result",
          "data": {
            "text/plain": [
              "array([0.992     , 0.98      , 0.986     , 0.97      , 0.78356713])"
            ]
          },
          "metadata": {
            "tags": []
          },
          "execution_count": 170
        }
      ]
    },
    {
      "cell_type": "markdown",
      "metadata": {
        "id": "-mF9iZIr0xTZ"
      },
      "source": [
        "<h3>Support vector classifier (SVM)</h3>"
      ]
    },
    {
      "cell_type": "code",
      "metadata": {
        "colab": {
          "base_uri": "https://localhost:8080/"
        },
        "id": "k1GzQn580xTZ",
        "outputId": "ca6bfcd0-ee9e-430b-81f2-2de98e9d09da"
      },
      "source": [
        "SVM = Pipeline([('m',SVC(kernel='linear',gamma='auto'))])#gamma parameter????????????????????\n",
        "\n",
        "SVM.fit(X_train,Y_train)\n",
        "\n",
        "predicted_values = SVM.predict(X_test)\n",
        "\n",
        "x = metrics.accuracy_score(Y_test, predicted_values)\n",
        "acc.append(x)\n",
        "model.append(('SVM',SVM))\n",
        "print(\"SVM's Accuracy is: \", x)\n",
        "\n",
        "print(classification_report(Y_test,predicted_values))"
      ],
      "execution_count": 171,
      "outputs": [
        {
          "output_type": "stream",
          "text": [
            "SVM's Accuracy is:  0.952\n",
            "              precision    recall  f1-score   support\n",
            "\n",
            "       apple       1.00      0.90      0.95        30\n",
            "      banana       0.98      0.98      0.98        44\n",
            "   blackgram       0.90      0.93      0.92        41\n",
            "    chickpea       1.00      1.00      1.00        35\n",
            "     coconut       0.97      0.97      0.97        40\n",
            "      coffee       0.97      1.00      0.99        33\n",
            "      cotton       0.91      0.87      0.89        23\n",
            "      grapes       0.93      0.96      0.95        27\n",
            "        jute       0.82      0.92      0.87        25\n",
            " kidneybeans       0.97      0.97      0.97        29\n",
            "      lentil       0.96      0.87      0.91        30\n",
            "       maize       0.96      0.93      0.95        28\n",
            "       mango       0.97      1.00      0.98        30\n",
            "   mothbeans       0.80      0.92      0.86        36\n",
            "    mungbean       0.97      0.94      0.95        33\n",
            "   muskmelon       1.00      1.00      1.00        33\n",
            "      orange       1.00      1.00      1.00        29\n",
            "      papaya       0.94      0.95      0.95        66\n",
            "  pigeonpeas       1.00      0.97      0.99        35\n",
            " pomegranate       1.00      0.97      0.99        39\n",
            "        rice       0.97      0.85      0.90        33\n",
            "  watermelon       0.94      1.00      0.97        31\n",
            "\n",
            "    accuracy                           0.95       750\n",
            "   macro avg       0.95      0.95      0.95       750\n",
            "weighted avg       0.95      0.95      0.95       750\n",
            "\n"
          ],
          "name": "stdout"
        }
      ]
    },
    {
      "cell_type": "code",
      "metadata": {
        "colab": {
          "base_uri": "https://localhost:8080/"
        },
        "id": "2i8XgHW_0xTZ",
        "outputId": "2ac8d7a2-1f75-4575-b18d-7d21312cb5c2"
      },
      "source": [
        "# Cross validation score (SVM)\n",
        "score = cross_val_score(SVM,X,Y,cv=5)\n",
        "score"
      ],
      "execution_count": 172,
      "outputs": [
        {
          "output_type": "execute_result",
          "data": {
            "text/plain": [
              "array([0.976     , 0.974     , 0.99      , 0.966     , 0.87374749])"
            ]
          },
          "metadata": {
            "tags": []
          },
          "execution_count": 172
        }
      ]
    },
    {
      "cell_type": "markdown",
      "metadata": {
        "id": "ZWtnNny10xTa"
      },
      "source": [
        "<h3>Logistic Regression </h3>\n"
      ]
    },
    {
      "cell_type": "code",
      "metadata": {
        "colab": {
          "base_uri": "https://localhost:8080/"
        },
        "id": "UTdaZjRF0xTa",
        "outputId": "75de0eca-c901-4ce0-99f2-49bcf7d72071"
      },
      "source": [
        "\n",
        "from sklearn.linear_model import LogisticRegression\n",
        "\n",
        "\n",
        "LogReg = Pipeline([('m',LogisticRegression(random_state=2,solver='liblinear',max_iter=1000))])\n",
        "\n",
        "LogReg.fit(X_train,Y_train)\n",
        "\n",
        "predicted_values = LogReg.predict(X_test)\n",
        "\n",
        "x = metrics.accuracy_score(Y_test, predicted_values)\n",
        "acc.append(x)\n",
        "model.append(('Logistic Regression',LogReg))\n",
        "print(\"Logistic Regression's Accuracy is: \", x)\n",
        "\n",
        "print(classification_report(Y_test,predicted_values))"
      ],
      "execution_count": 173,
      "outputs": [
        {
          "output_type": "stream",
          "text": [
            "Logistic Regression's Accuracy is:  0.8946666666666667\n",
            "              precision    recall  f1-score   support\n",
            "\n",
            "       apple       1.00      0.87      0.93        30\n",
            "      banana       0.91      0.95      0.93        44\n",
            "   blackgram       0.82      0.80      0.81        41\n",
            "    chickpea       0.97      0.91      0.94        35\n",
            "     coconut       1.00      0.88      0.93        40\n",
            "      coffee       0.94      0.97      0.96        33\n",
            "      cotton       0.84      0.91      0.87        23\n",
            "      grapes       1.00      0.96      0.98        27\n",
            "        jute       0.57      0.52      0.54        25\n",
            " kidneybeans       0.90      0.97      0.93        29\n",
            "      lentil       0.92      0.80      0.86        30\n",
            "       maize       0.92      0.79      0.85        28\n",
            "       mango       0.88      1.00      0.94        30\n",
            "   mothbeans       0.78      0.86      0.82        36\n",
            "    mungbean       0.94      0.94      0.94        33\n",
            "   muskmelon       1.00      1.00      1.00        33\n",
            "      orange       1.00      1.00      1.00        29\n",
            "      papaya       0.80      0.91      0.85        66\n",
            "  pigeonpeas       1.00      0.83      0.91        35\n",
            " pomegranate       0.97      0.95      0.96        39\n",
            "        rice       0.71      0.82      0.76        33\n",
            "  watermelon       0.94      0.97      0.95        31\n",
            "\n",
            "    accuracy                           0.89       750\n",
            "   macro avg       0.90      0.89      0.89       750\n",
            "weighted avg       0.90      0.89      0.89       750\n",
            "\n"
          ],
          "name": "stdout"
        }
      ]
    },
    {
      "cell_type": "markdown",
      "metadata": {
        "id": "h9HVxm2e0xTb"
      },
      "source": [
        "<h3>K Nearest Neighbours (KNN)</h3>"
      ]
    },
    {
      "cell_type": "code",
      "metadata": {
        "colab": {
          "base_uri": "https://localhost:8080/"
        },
        "id": "WsM14-0o0xTb",
        "outputId": "9d55f39b-4e60-4596-8ea9-c974b58f733d"
      },
      "source": [
        "from sklearn.neighbors import KNeighborsClassifier\n",
        "KNN = Pipeline([('m',KNeighborsClassifier(n_neighbors=5))])\n",
        "\n",
        "KNN.fit(X_train,Y_train)\n",
        "\n",
        "predicted_values = KNN.predict(X_test)\n",
        "\n",
        "x = metrics.accuracy_score(Y_test, predicted_values)\n",
        "acc.append(x)\n",
        "model.append(('KNN',KNN))\n",
        "print(\"KNN's Accuracy is: \", x)\n",
        "\n",
        "print(classification_report(Y_test,predicted_values))\n"
      ],
      "execution_count": 174,
      "outputs": [
        {
          "output_type": "stream",
          "text": [
            "KNN's Accuracy is:  0.956\n",
            "              precision    recall  f1-score   support\n",
            "\n",
            "       apple       1.00      0.97      0.98        30\n",
            "      banana       0.98      0.95      0.97        44\n",
            "   blackgram       0.93      0.95      0.94        41\n",
            "    chickpea       1.00      0.97      0.99        35\n",
            "     coconut       1.00      0.93      0.96        40\n",
            "      coffee       1.00      1.00      1.00        33\n",
            "      cotton       1.00      1.00      1.00        23\n",
            "      grapes       1.00      0.96      0.98        27\n",
            "        jute       0.75      0.84      0.79        25\n",
            " kidneybeans       0.91      1.00      0.95        29\n",
            "      lentil       1.00      0.87      0.93        30\n",
            "       maize       1.00      1.00      1.00        28\n",
            "       mango       0.97      1.00      0.98        30\n",
            "   mothbeans       0.83      0.97      0.90        36\n",
            "    mungbean       1.00      0.94      0.97        33\n",
            "   muskmelon       1.00      1.00      1.00        33\n",
            "      orange       1.00      1.00      1.00        29\n",
            "      papaya       0.97      0.97      0.97        66\n",
            "  pigeonpeas       0.94      0.94      0.94        35\n",
            " pomegranate       1.00      0.97      0.99        39\n",
            "        rice       0.84      0.79      0.81        33\n",
            "  watermelon       0.94      1.00      0.97        31\n",
            "\n",
            "    accuracy                           0.96       750\n",
            "   macro avg       0.96      0.96      0.96       750\n",
            "weighted avg       0.96      0.96      0.96       750\n",
            "\n"
          ],
          "name": "stdout"
        }
      ]
    },
    {
      "cell_type": "markdown",
      "metadata": {
        "id": "5fxT3cqN0xTb"
      },
      "source": [
        "<h3> Ensembling five Algorithms using voting classifier based on majority voting </h3>"
      ]
    },
    {
      "cell_type": "code",
      "metadata": {
        "id": "h-ZL9MO70xTc"
      },
      "source": [
        "ensemble = VotingClassifier(estimators=model, voting='hard')"
      ],
      "execution_count": 175,
      "outputs": []
    },
    {
      "cell_type": "code",
      "metadata": {
        "colab": {
          "base_uri": "https://localhost:8080/"
        },
        "id": "Nhbh9I7w0xTc",
        "outputId": "4c012a8e-cda9-46c1-b293-5ba84bca49be"
      },
      "source": [
        "model"
      ],
      "execution_count": 176,
      "outputs": [
        {
          "output_type": "execute_result",
          "data": {
            "text/plain": [
              "[('Decision Tree', Pipeline(steps=[('m',\n",
              "                   DecisionTreeClassifier(criterion='entropy', max_depth=5,\n",
              "                                          random_state=2))])),\n",
              " ('Naive Bayes', Pipeline(steps=[('m', GaussianNB())])),\n",
              " ('SVM', Pipeline(steps=[('m', SVC(gamma='auto', kernel='linear'))])),\n",
              " ('Logistic Regression', Pipeline(steps=[('m',\n",
              "                   LogisticRegression(max_iter=1000, random_state=2,\n",
              "                                      solver='liblinear'))])),\n",
              " ('KNN', Pipeline(steps=[('m', KNeighborsClassifier())]))]"
            ]
          },
          "metadata": {
            "tags": []
          },
          "execution_count": 176
        }
      ]
    },
    {
      "cell_type": "code",
      "metadata": {
        "colab": {
          "base_uri": "https://localhost:8080/"
        },
        "id": "W_td7qKK0xTc",
        "outputId": "cfa64e3e-00f3-4b82-dbd2-a0c0eb9671cb"
      },
      "source": [
        "\n",
        "ensemble.fit(X_train,Y_train)\n",
        "\n",
        "predicted_values = ensemble.predict(X_test)\n",
        "\n",
        "x = metrics.accuracy_score(Y_test, predicted_values)\n",
        "acc.append(x)\n",
        "\n",
        "print(\"ensemble's Accuracy is: \", x)\n",
        "\n",
        "print(classification_report(Y_test,predicted_values))"
      ],
      "execution_count": 177,
      "outputs": [
        {
          "output_type": "stream",
          "text": [
            "ensemble's Accuracy is:  0.9613333333333334\n",
            "              precision    recall  f1-score   support\n",
            "\n",
            "       apple       1.00      0.97      0.98        30\n",
            "      banana       1.00      0.98      0.99        44\n",
            "   blackgram       0.92      0.88      0.90        41\n",
            "    chickpea       1.00      0.97      0.99        35\n",
            "     coconut       1.00      0.97      0.99        40\n",
            "      coffee       1.00      1.00      1.00        33\n",
            "      cotton       1.00      0.91      0.95        23\n",
            "      grapes       1.00      0.96      0.98        27\n",
            "        jute       0.83      0.96      0.89        25\n",
            " kidneybeans       0.97      1.00      0.98        29\n",
            "      lentil       1.00      0.90      0.95        30\n",
            "       maize       0.97      1.00      0.98        28\n",
            "       mango       0.97      1.00      0.98        30\n",
            "   mothbeans       0.81      0.94      0.87        36\n",
            "    mungbean       1.00      0.94      0.97        33\n",
            "   muskmelon       1.00      1.00      1.00        33\n",
            "      orange       1.00      1.00      1.00        29\n",
            "      papaya       0.93      0.97      0.95        66\n",
            "  pigeonpeas       1.00      1.00      1.00        35\n",
            " pomegranate       1.00      0.97      0.99        39\n",
            "        rice       0.93      0.82      0.87        33\n",
            "  watermelon       0.91      1.00      0.95        31\n",
            "\n",
            "    accuracy                           0.96       750\n",
            "   macro avg       0.97      0.96      0.96       750\n",
            "weighted avg       0.96      0.96      0.96       750\n",
            "\n"
          ],
          "name": "stdout"
        }
      ]
    },
    {
      "cell_type": "code",
      "metadata": {
        "colab": {
          "base_uri": "https://localhost:8080/"
        },
        "id": "yOm2xKT20xTc",
        "outputId": "63906bb3-37c5-4895-ef7e-1fecc4a1ac62"
      },
      "source": [
        "data = np.array([[31, 55, 22, 22, 21, 5.0, 109.9]])\n",
        "prediction =DecisionTree.predict(data)\n",
        "prediction1 =SVM.predict(data)\n",
        "prediction2 =KNN.predict(data)\n",
        "prediction3 =LogReg.predict(data)\n",
        "prediction4 =NaiveBayes.predict(data)\n",
        "prediction5 =ensemble.predict(data)\n",
        "print(prediction,prediction1,prediction2,prediction3,prediction4,prediction5)"
      ],
      "execution_count": 178,
      "outputs": [
        {
          "output_type": "stream",
          "text": [
            "['kidneybeans'] ['kidneybeans'] ['kidneybeans'] ['kidneybeans'] ['kidneybeans'] ['kidneybeans']\n"
          ],
          "name": "stdout"
        }
      ]
    },
    {
      "cell_type": "code",
      "metadata": {
        "id": "zBwYwcoLnT05",
        "colab": {
          "base_uri": "https://localhost:8080/"
        },
        "outputId": "1bc0cb4f-b222-4e82-fef2-11dac19ff222"
      },
      "source": [
        "data = np.array([[90, 42, 43, 20.8, 82, 6.5, 202.9]])\n",
        "prediction =DecisionTree.predict(data)\n",
        "prediction1 =SVM.predict(data)\n",
        "prediction2 =KNN.predict(data)\n",
        "prediction3 =LogReg.predict(data)\n",
        "prediction4 =NaiveBayes.predict(data)\n",
        "prediction5 =ensemble.predict(data)\n",
        "print(prediction,prediction1,prediction2,prediction3,prediction4,prediction5)"
      ],
      "execution_count": 179,
      "outputs": [
        {
          "output_type": "stream",
          "text": [
            "['rice'] ['rice'] ['rice'] ['rice'] ['rice'] ['rice']\n"
          ],
          "name": "stdout"
        }
      ]
    },
    {
      "cell_type": "code",
      "metadata": {
        "id": "BxUrSqc2nfj_"
      },
      "source": [
        ""
      ],
      "execution_count": 179,
      "outputs": []
    },
    {
      "cell_type": "markdown",
      "metadata": {
        "id": "ftKczyr90xTd"
      },
      "source": [
        "<img src='Desktop/Model_sketch.png'>\n",
        "<center>System Architecture</center>"
      ]
    },
    {
      "cell_type": "code",
      "metadata": {
        "id": "rupTbDpK0xTd"
      },
      "source": [
        "import pickle\n",
        "# Dump the trained Naive Bayes classifier with Pickle\n",
        "Ensemble_pkl_filename = 'Ensemble.pkl'\n",
        "# Open the file to save as pkl file\n",
        "Ensemble_Model_pkl = open(Ensemble_pkl_filename, 'wb')\n",
        "pickle.dump(ensemble, Ensemble_Model_pkl)\n",
        "# Close the pickle instances\n",
        "Ensemble_Model_pkl.close()"
      ],
      "execution_count": 180,
      "outputs": []
    },
    {
      "cell_type": "code",
      "metadata": {
        "id": "WWZuKSnR0xTd"
      },
      "source": [
        ""
      ],
      "execution_count": 180,
      "outputs": []
    }
  ]
}